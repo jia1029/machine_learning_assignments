{
 "cells": [
  {
   "cell_type": "markdown",
   "metadata": {},
   "source": [
    "# Assignment 2"
   ]
  },
  {
   "cell_type": "code",
   "execution_count": 1,
   "metadata": {},
   "outputs": [],
   "source": [
    "import numpy as np\n",
    "from numpy import random as rd\n",
    "import pandas as pd"
   ]
  },
  {
   "cell_type": "code",
   "execution_count": null,
   "metadata": {},
   "outputs": [],
   "source": [
    "rd.seed(22)\n",
    "num_obs = 100000\n",
    "\n",
    "X1 = rd.randn(num_obs)*2\n",
    "X2 = rd.random(num_obs)*10+4\n",
    "X3 = rd.choice([0,1], num_obs)\n",
    "X4 = rd.randint(0,101,num_obs)\n",
    "X5 = rd.rand(num_obs)*11-5\n",
    "X6 = rd.lognormal(0,0.03,num_obs)\n",
    "\n",
    "Y = 2.34 + 0.29*X1 + 3.33*X2*X4 + 2.16*(X6**0.3) + X1*X6 + X3*1.22"
   ]
  },
  {
   "cell_type": "code",
   "execution_count": null,
   "metadata": {},
   "outputs": [],
   "source": [
    "dataset = np.array([X1, X2, X3, X4, X5, X6, Y]).transpose()"
   ]
  }
 ],
 "metadata": {
  "kernelspec": {
   "display_name": "Python 3",
   "language": "python",
   "name": "python3"
  },
  "language_info": {
   "codemirror_mode": {
    "name": "ipython",
    "version": 3
   },
   "file_extension": ".py",
   "mimetype": "text/x-python",
   "name": "python",
   "nbconvert_exporter": "python",
   "pygments_lexer": "ipython3",
   "version": "3.7.0"
  }
 },
 "nbformat": 4,
 "nbformat_minor": 2
}
